{
 "cells": [
  {
   "cell_type": "markdown",
   "metadata": {},
   "source": [
    "[![git](ATLASOD.gif)](http://opendata.atlas.cern/release/2020/documentation/notebooks/intro.html)"
   ]
  },
  {
   "cell_type": "markdown",
   "metadata": {},
   "source": [
    "<CENTER><h1>Estudio de la Significancia Esperada, $Z_{0}$, para diferentes cortes del Bosón de Higgs en el Canal de Decaimiento $H \\rightarrow WW^{*}\\rightarrow e\\nu\\mu\\nu$     a      $\\sqrt{s}=13TeV$</h1></CENTER>"
   ]
  },
  {
   "cell_type": "markdown",
   "metadata": {},
   "source": [
    "---------------------\n",
    "Necesitamos incluir algunas librerias de C++ y ROOT"
   ]
  },
  {
   "cell_type": "code",
   "execution_count": 1,
   "metadata": {},
   "outputs": [],
   "source": [
    "#include <iostream>\n",
    "#include <vector>\n",
    "#include <stdio.h>\n",
    "#include \"TFile.h\"\n",
    "#include \"TString.h\"\n",
    "#include \"TChain.h\"\n",
    "#include <TTreeReader.h>\n",
    "#include <TTreeReaderValue.h>\n",
    "#include <TTreeReaderArray.h>\n",
    "using namespace std;"
   ]
  },
  {
   "cell_type": "markdown",
   "metadata": {},
   "source": [
    "<p>Introducimos dos funciones creadas para el proposito de este análisis</p>"
   ]
  },
  {
   "cell_type": "code",
   "execution_count": 2,
   "metadata": {},
   "outputs": [],
   "source": [
    "#include \"array_sample.C\"\n",
    "#include \"main_HWWAnalysis.C\""
   ]
  },
  {
   "cell_type": "markdown",
   "metadata": {},
   "source": [
    "------------------------\n",
    "<p>Creamos el TChain y TTreeReader</p>"
   ]
  },
  {
   "cell_type": "code",
   "execution_count": 3,
   "metadata": {},
   "outputs": [],
   "source": [
    "TChain *fchain = new TChain(\"mini\");\n",
    "TTreeReader fReader;"
   ]
  },
  {
   "cell_type": "markdown",
   "metadata": {},
   "source": [
    "<p> Definimos las variables para acceder a los datos</p>"
   ]
  },
  {
   "cell_type": "code",
   "execution_count": 4,
   "metadata": {},
   "outputs": [],
   "source": [
    "TTreeReaderValue<Bool_t> trigE = {fReader, \"trigE\"};\n",
    "TTreeReaderValue<Bool_t> trigM = {fReader, \"trigM\"};\n",
    "TTreeReaderValue<UInt_t> lep_n = {fReader, \"lep_n\"};\n",
    "TTreeReaderArray<float> lep_pt = {fReader, \"lep_pt\"};\n",
    "TTreeReaderArray<float> lep_eta = {fReader, \"lep_eta\"};\n",
    "TTreeReaderArray<float> lep_phi = {fReader, \"lep_phi\"};\n",
    "TTreeReaderArray<float> lep_E = {fReader, \"lep_E\"};\n",
    "TTreeReaderArray<float> lep_z0 = {fReader, \"lep_z0\"};\n",
    "TTreeReaderArray<int> lep_charge = {fReader, \"lep_charge\"};\n",
    "TTreeReaderArray<unsigned int> lep_type = {fReader, \"lep_type\"};\n",
    "TTreeReaderValue<vector<bool>> lep_isTightID = {fReader, \"lep_isTightID\"};\n",
    "TTreeReaderArray<float> lep_ptcone30 = {fReader, \"lep_ptcone30\"};\n",
    "TTreeReaderArray<float> lep_etcone20 = {fReader, \"lep_etcone20\"};\n",
    "TTreeReaderArray<float> lep_trackd0pvunbiased = {fReader, \"lep_trackd0pvunbiased\"};\n",
    "TTreeReaderArray<float> lep_tracksigd0pvunbiased = {fReader, \"lep_tracksigd0pvunbiased\"};\n",
    "TTreeReaderValue<Float_t> met_et = {fReader, \"met_et\"};\n",
    "TTreeReaderValue<Float_t> met_phi = {fReader, \"met_phi\"};\n",
    "TTreeReaderValue<UInt_t> jet_n = {fReader, \"jet_n\"};\n",
    "TTreeReaderArray<float> jet_pt = {fReader, \"jet_pt\"};\n",
    "TTreeReaderArray<float> jet_eta = {fReader, \"jet_eta\"};\n",
    "TTreeReaderArray<float> jet_phi = {fReader, \"jet_phi\"};\n",
    "TTreeReaderArray<float> jet_E = {fReader, \"jet_E\"};\n",
    "TTreeReaderArray<float> jet_jvt = {fReader, \"jet_jvt\"};\n",
    "TTreeReaderArray<float> jet_MV2c10 = {fReader, \"jet_MV2c10\"};\n",
    "TTreeReaderValue<Int_t> runNumber = {fReader, \"runNumber\"};\n",
    "TTreeReaderValue<Int_t> eventNumber = {fReader, \"eventNumber\"};\n",
    "TTreeReaderValue<Int_t> channelNumber = {fReader, \"channelNumber\"};"
   ]
  },
  {
   "cell_type": "markdown",
   "metadata": {},
   "source": [
    "----------------------\n",
    "<p>Creamos dos histogramas</p>"
   ]
  },
  {
   "cell_type": "code",
   "execution_count": 5,
   "metadata": {},
   "outputs": [],
   "source": [
    "TH1F *mt_signal = new TH1F(\"mt_signal\", \"Dilepton System Transverse Mass; m_{T} [GeV];Events\", 15, 50, 200);\n",
    "TH1F *mt_bkg = new TH1F(\"mt_bkg\",\"Dilepton System Transverse Mass; m_{T} [GeV];Events\", 15, 50, 200);\n",
    "\n",
    "mt_signal->SetMarkerSize(2);         mt_bkg->SetMarkerSize(2);\n",
    "mt_signal->SetFillColor(kBlue-5);   mt_bkg->SetFillColor(kRed-5);\n",
    "mt_signal->SetLineColor(kBlue);      mt_bkg->SetLineColor(kRed);"
   ]
  },
  {
   "cell_type": "markdown",
   "metadata": {},
   "source": [
    "-----------------\n",
    "<p><b>Opción a correr</b></p>\n",
    "\n",
    "<p>0 = Una señal (ggH125) + Background </p>\n",
    "<p>1 = Una señal (VBFH125) +Backgroun</p>\n",
    "<p>2 = Dos señal (ggH125+VBFH125) + Background</p>"
   ]
  },
  {
   "cell_type": "code",
   "execution_count": 6,
   "metadata": {},
   "outputs": [
    {
     "name": "stdout",
     "output_type": "stream",
     "text": [
      "option: 0\n"
     ]
    }
   ],
   "source": [
    "int option = 0;\n",
    "cout<<\"option: \"<<option<<endl;"
   ]
  },
  {
   "cell_type": "code",
   "execution_count": 7,
   "metadata": {},
   "outputs": [],
   "source": [
    "vector<string> sample;\n",
    "array_samples(sample,option);"
   ]
  },
  {
   "cell_type": "markdown",
   "metadata": {},
   "source": [
    "---------------------\n",
    "<h3>Analysis</h3>"
   ]
  },
  {
   "cell_type": "code",
   "execution_count": 8,
   "metadata": {},
   "outputs": [
    {
     "name": "stdout",
     "output_type": "stream",
     "text": [
      "Muestra a Analizar: ggH125_WW2lep # Events: 628685\n",
      "Muestra Analizada: ggH125_WW2lep\n",
      "Muestra a Analizar: ZqqZll # Events: 1403146\n",
      "Muestra Analizada: ZqqZll\n",
      "Muestra a Analizar: WqqZll # Events: 1316619\n",
      "Muestra Analizada: WqqZll\n",
      "Muestra a Analizar: WpqqWmlv # Events: 13375\n",
      "Muestra Analizada: WpqqWmlv\n",
      "Muestra a Analizar: WplvWmqq # Events: 14245\n",
      "Muestra Analizada: WplvWmqq\n",
      "Muestra a Analizar: WlvZqq # Events: 28199\n",
      "Muestra Analizada: WlvZqq\n",
      "Muestra a Analizar: llll # Events: 4266124\n",
      "Muestra Analizada: llll\n",
      "Muestra a Analizar: lllv # Events: 3791795\n",
      "Muestra Analizada: lllv\n",
      "Muestra a Analizar: llvv # Events: 3409043\n",
      "Muestra Analizada: llvv\n",
      "Muestra a Analizar: lvvv # Events: 11789\n",
      "Muestra Analizada: lvvv\n"
     ]
    }
   ],
   "source": [
    "double s = 0; //signal\n",
    "double b = 0; //Background\n",
    "double Z;\n",
    "for (unsigned int i=0;i<sample.size();i++){ \n",
    "    \n",
    "    fchain = main_HWWAnalysis(sample[i]);\n",
    "    fReader.SetTree(fchain);\n",
    "    Long64_t nentries = fReader.GetEntries(1);\n",
    "    cout<< \"Muestra a Analizar: \"<< sample[i] << \" # Events: \" <<nentries << endl;\n",
    "    \n",
    "    while (fReader.Next()){\n",
    "        \n",
    "        //Preselection cut for electron/muon trigger\n",
    "        if (*trigE || *trigM){\n",
    "            \n",
    "            // Preselection of good Leptons\n",
    "            int goodlep_index[2];\n",
    "            int goodlep_n = 0;\n",
    "            int lep_index = 0;\n",
    "            \n",
    "            for (unsigned int j=0; j<*lep_n; j++){\n",
    "                \n",
    "                TLorentzVector leptemp;\n",
    "                leptemp.SetPtEtaPhiE(lep_pt[j]/1000., lep_eta[j], lep_phi[j], lep_E[j]/1000.);\n",
    "                \n",
    "                // Lepton is Tight----boolean indicating whether lepton satisfies tight ID reconstruction criteria\n",
    "                if (lep_isTightID->at(j)){\n",
    "                    \n",
    "                    // standard lepton isolation requirement => strict isolation\n",
    "                    if ((lep_pt[j]>15000.) && (lep_ptcone30[j]/lep_pt[j]<0.1) && (lep_etcone20[j]/lep_pt[j]<0.1)){\n",
    "                       \n",
    "                        // electron selection\n",
    "                        if ((lep_type[j]==11) && (TMath::Abs(lep_eta[j])<2.47) && ((TMath::Abs(lep_eta[j])<1.37) || (TMath::Abs(lep_eta[j])>1.52))){\n",
    "                            if ((TMath::Abs(lep_trackd0pvunbiased[j])/lep_tracksigd0pvunbiased[j]<5) && (TMath::Abs(lep_z0[j]*TMath::Sin(leptemp.Theta()))<0.5)){\n",
    "                                goodlep_n = goodlep_n + 1;\n",
    "                                goodlep_index[lep_index] = j;\n",
    "                                lep_index++;\n",
    "                            }\n",
    "                        }\n",
    "                        // muon selection\n",
    "                        if ((lep_type[j]==13) && (TMath::Abs(lep_eta[j])<2.5)){\n",
    "                            if ((TMath::Abs(lep_trackd0pvunbiased[j])/lep_tracksigd0pvunbiased[j]<3) && (TMath::Abs(lep_z0[j]*TMath::Sin(leptemp.Theta()))<0.5)){\n",
    "                                goodlep_n = goodlep_n + 1;\n",
    "                                goodlep_index[lep_index] = j;\n",
    "                                lep_index++;\n",
    "                            }\n",
    "                        }\n",
    "                    }\n",
    "                }//End_Tight\n",
    "                \n",
    "            }\n",
    "            \n",
    "            //Exactly two good leptons, leading lepton with pT > 22 GeV and the subleading lepton with pT > 15 GeV\n",
    "            if (goodlep_n==2){\n",
    "                       \n",
    "                int goodlep1_index = goodlep_index[0];\n",
    "                int goodlep2_index = goodlep_index[1];\n",
    "                \n",
    "                if (lep_pt[goodlep1_index]>22000.){\n",
    "                    \n",
    "                    //two different-flavour opposite-sign leptons\n",
    "                    if (lep_type[goodlep1_index] != lep_type[goodlep2_index]){\n",
    "                        if (lep_charge[goodlep1_index]*lep_charge[goodlep2_index]<0){\n",
    "                            \n",
    "                            //TLorentzVector Definitions\n",
    "                            TLorentzVector Lepton_1  = TLorentzVector();\n",
    "                            TLorentzVector Lepton_2  = TLorentzVector();\n",
    "                            TLorentzVector      MeT  = TLorentzVector();\n",
    "  \n",
    "                            Lepton_1.SetPtEtaPhiE(lep_pt[goodlep1_index]/1000., lep_eta[goodlep1_index], lep_phi[goodlep1_index],lep_E[goodlep1_index]/1000.);\n",
    "                            Lepton_2.SetPtEtaPhiE(lep_pt[goodlep2_index]/1000., lep_eta[goodlep2_index], lep_phi[goodlep2_index],lep_E[goodlep2_index]/1000.);\n",
    "                            MeT.SetPtEtaPhiE(*met_et/1000., 0, *met_phi , *met_et/1000.);\n",
    "                            \n",
    "                            TLorentzVector Lepton_12 = TLorentzVector();\n",
    "                            Lepton_12 = Lepton_1 + Lepton_2;\n",
    "                            \n",
    "                            float mLL = Lepton_12.Mag(); //The invariant mass of the two leptons\n",
    "\n",
    "                            float ptLL = Lepton_12.Pt(); //Transverse momentum of the dilepton system\n",
    "                            \n",
    "                            Float_t MET = *met_et/1000.; // Missing transverse momentum\n",
    "                            \n",
    "                            //Azimuthal angle between the two leptons\n",
    "                            float dPhi_LL = TMath::Abs(lep_phi[goodlep1_index]-lep_phi[goodlep2_index]);\n",
    "                            dPhi_LL = dPhi_LL < TMath::Pi() ? dPhi_LL : 2*TMath::Pi() - dPhi_LL;\n",
    "                            \n",
    "                            //Azimuthal angle between E_T^miss and the dilepton system\n",
    "                            float dPhiLLmet = TMath::Abs(Lepton_12.Phi() - MeT.Phi());\n",
    "                            dPhiLLmet    = dPhiLLmet < TMath::Pi() ? dPhiLLmet : 2*TMath::Pi() - dPhiLLmet;\n",
    "                            \n",
    "                            //dilepton transverse mass\n",
    "                            float mt = sqrt(2*Lepton_12.Pt()*MeT.Et()*(1-cos(Lepton_12.DeltaPhi(MeT))));\n",
    "                            \n",
    "                            // Preselection of good jets\n",
    "                            int goodjet_n = 0;\n",
    "                            int goodbjet_n = 0;\n",
    "                            \n",
    "                            int goodjet_index[*jet_n];\n",
    "                            int jet_index = 0;\n",
    "                            \n",
    "                            int goodbjet_index[*jet_n];\n",
    "                            int bjet_index = 0;\n",
    "                            \n",
    "                            for (unsigned int j=0; j<*jet_n; j++){\n",
    "                                \n",
    "                                if ((jet_pt[j]>20000.) && (TMath::Abs(jet_eta[j])<2.5)){\n",
    "                                    \n",
    "                                    //JVT cleaning\n",
    "                                    bool jvt_pass = true;\n",
    "                                    \n",
    "                                    if ((jet_pt[j]<60000.) && (TMath::Abs(jet_eta[j])<2.4) && (jet_jvt[j]<0.59)) {jvt_pass=false;}\n",
    "                                    \n",
    "                                    if (jvt_pass){\n",
    "                                        \n",
    "                                        // cut on 85% WP\n",
    "                                        if (jet_MV2c10[j] > 0.1758475){\n",
    "                                            goodbjet_n++;\n",
    "                                            goodbjet_index[bjet_index] = j;\n",
    "                                            bjet_index++;\n",
    "                                        }\n",
    "                                        \n",
    "                                        if (jet_pt[j]>30000.){\n",
    "                                            goodjet_n++;\n",
    "                                            goodjet_index[jet_index] = j;\n",
    "                                            jet_index++;\n",
    "                                        }\n",
    "                                    }\n",
    "                                    \n",
    "                                }\n",
    "                            }\n",
    "                            \n",
    "                            //  remove low mass meson resonances and DY events; ggF regions, at least 1 jet\n",
    "                            if ( (mLL > 10) && (goodjet_n <= 1) && (MET > 20) ){\n",
    "                                \n",
    "                                if (mLL < 55){\n",
    "                                    \n",
    "                                    if (ptLL > 30){\n",
    "                                        \n",
    "                                        if (dPhi_LL < 1.8){\n",
    "                                            \n",
    "                                            if (dPhiLLmet > TMath::Pi()/2){\n",
    "                                                \n",
    "                                                if (goodbjet_n ==0){\n",
    "                                                    \n",
    "                                                    //Filter\n",
    "                                                    //if (mt > 120 && mt < 130){\n",
    "                                                        \n",
    "                                                        TString foption = sample[i];\n",
    "                                                        if (foption.Contains(\"ggH125\") || foption.Contains(\"VBFH125\")){\n",
    "                                                            s++;\n",
    "                                                            mt_signal->Fill(mt);\n",
    "                                                        } else{\n",
    "                                                            b++;\n",
    "                                                            mt_bkg->Fill(mt);\n",
    "                                                        }\n",
    "                                                    //}\n",
    "                                                }\n",
    "                                            }\n",
    "                                        }\n",
    "                                    }\n",
    "                                }\n",
    "                            }\n",
    "                        }\n",
    "                    }\n",
    "                }\n",
    "            }\n",
    "        }\n",
    "    }\n",
    "    \n",
    "    cout<< \"Muestra Analizada: \"<< sample[i] << endl;\n",
    "}"
   ]
  },
  {
   "cell_type": "code",
   "execution_count": 9,
   "metadata": {},
   "outputs": [
    {
     "name": "stdout",
     "output_type": "stream",
     "text": [
      "s = 82695\n",
      "b = 131945\n",
      "Z = 208.537\n"
     ]
    }
   ],
   "source": [
    "Z = sqrt(2*((s+b)*log(1+(s/b))-s));\n",
    "cout << \"s = \"<< s << endl;\n",
    "cout << \"b = \"<< b << endl;\n",
    "cout << \"Z = \"<< Z << endl;"
   ]
  },
  {
   "cell_type": "code",
   "execution_count": 10,
   "metadata": {},
   "outputs": [
    {
     "data": {
      "image/png": "[encoded data removed]",
      "text/plain": [
       "<IPython.core.display.Image object>"
      ]
     },
     "metadata": {},
     "output_type": "display_data"
    }
   ],
   "source": [
    "TCanvas *c = new TCanvas(\"c\",\"c\",10,10,950,650);\n",
    "    //TText tz; tz.SetTextFont(42); tz.SetTextAlign(21);\n",
    "    c->Divide(2,1);\n",
    "    c->cd(1); mt_signal->Draw();\n",
    "    c->cd(2); mt_bkg->Draw();\n",
    "c->Draw();"
   ]
  },
  {
   "cell_type": "code",
   "execution_count": null,
   "metadata": {},
   "outputs": [],
   "source": []
  }
 ],
 "metadata": {
  "kernelspec": {
   "display_name": "ROOT C++",
   "language": "c++",
   "name": "root"
  },
  "language_info": {
   "codemirror_mode": "text/x-c++src",
   "file_extension": ".C",
   "mimetype": " text/x-c++src",
   "name": "c++"
  }
 },
 "nbformat": 4,
 "nbformat_minor": 2
}
