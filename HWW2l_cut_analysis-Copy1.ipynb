{
 "cells": [
  {
   "cell_type": "markdown",
   "metadata": {},
   "source": [
    "[![git](ATLASOD.gif)](http://opendata.atlas.cern/release/2020/documentation/notebooks/intro.html)"
   ]
  },
  {
   "cell_type": "markdown",
   "metadata": {},
   "source": [
    "<CENTER><h1>Estudio de la Significancia Esperada, $Z_{0}$, para diferentes cortes del Bosón de Higgs en el Canal de Decaimiento $H \\rightarrow WW^{*}\\rightarrow e\\nu\\mu\\nu$     a      $\\sqrt{s}=13TeV$</h1></CENTER>"
   ]
  },
  {
   "cell_type": "markdown",
   "metadata": {},
   "source": [
    "---------------------\n",
    "Necesitamos incluir algunas librerias de C++ y ROOT"
   ]
  },
  {
   "cell_type": "code",
   "execution_count": 1,
   "metadata": {},
   "outputs": [],
   "source": [
    "#include <iostream>\n",
    "#include <vector>\n",
    "#include <stdio.h>\n",
    "#include \"TFile.h\"\n",
    "#include \"TString.h\"\n",
    "#include \"TChain.h\"\n",
    "#include <TTreeReader.h>\n",
    "#include <TTreeReaderValue.h>\n",
    "#include <TTreeReaderArray.h>\n",
    "using namespace std;"
   ]
  },
  {
   "cell_type": "markdown",
   "metadata": {},
   "source": [
    "<p>Introducimos dos funciones creadas para el proposito de este análisis</p>"
   ]
  },
  {
   "cell_type": "code",
   "execution_count": 2,
   "metadata": {},
   "outputs": [],
   "source": [
    "#include \"array_sample.C\"\n",
    "#include \"main_HWWAnalysis.C\""
   ]
  },
  {
   "cell_type": "markdown",
   "metadata": {},
   "source": [
    "------------------------\n",
    "<p>Creamos el TChain y TTreeReader</p>"
   ]
  },
  {
   "cell_type": "code",
   "execution_count": 3,
   "metadata": {},
   "outputs": [],
   "source": [
    "TChain *fchain = new TChain(\"mini\");\n",
    "TTreeReader fReader;"
   ]
  },
  {
   "cell_type": "markdown",
   "metadata": {},
   "source": [
    "<p> Definimos las variables para acceder a los datos</p>"
   ]
  },
  {
   "cell_type": "code",
   "execution_count": 4,
   "metadata": {},
   "outputs": [],
   "source": [
    "TTreeReaderValue<Bool_t> trigE = {fReader, \"trigE\"};\n",
    "TTreeReaderValue<Bool_t> trigM = {fReader, \"trigM\"};\n",
    "TTreeReaderValue<UInt_t> lep_n = {fReader, \"lep_n\"};\n",
    "TTreeReaderArray<float> lep_pt = {fReader, \"lep_pt\"};\n",
    "TTreeReaderArray<float> lep_eta = {fReader, \"lep_eta\"};\n",
    "TTreeReaderArray<float> lep_phi = {fReader, \"lep_phi\"};\n",
    "TTreeReaderArray<float> lep_E = {fReader, \"lep_E\"};\n",
    "TTreeReaderArray<float> lep_z0 = {fReader, \"lep_z0\"};\n",
    "TTreeReaderArray<int> lep_charge = {fReader, \"lep_charge\"};\n",
    "TTreeReaderArray<unsigned int> lep_type = {fReader, \"lep_type\"};\n",
    "TTreeReaderValue<vector<bool>> lep_isTightID = {fReader, \"lep_isTightID\"};\n",
    "TTreeReaderArray<float> lep_ptcone30 = {fReader, \"lep_ptcone30\"};\n",
    "TTreeReaderArray<float> lep_etcone20 = {fReader, \"lep_etcone20\"};\n",
    "TTreeReaderArray<float> lep_trackd0pvunbiased = {fReader, \"lep_trackd0pvunbiased\"};\n",
    "TTreeReaderArray<float> lep_tracksigd0pvunbiased = {fReader, \"lep_tracksigd0pvunbiased\"};\n",
    "TTreeReaderValue<Float_t> met_et = {fReader, \"met_et\"};\n",
    "TTreeReaderValue<Float_t> met_phi = {fReader, \"met_phi\"};\n",
    "TTreeReaderValue<UInt_t> jet_n = {fReader, \"jet_n\"};\n",
    "TTreeReaderArray<float> jet_pt = {fReader, \"jet_pt\"};\n",
    "TTreeReaderArray<float> jet_eta = {fReader, \"jet_eta\"};\n",
    "TTreeReaderArray<float> jet_phi = {fReader, \"jet_phi\"};\n",
    "TTreeReaderArray<float> jet_E = {fReader, \"jet_E\"};\n",
    "TTreeReaderArray<float> jet_jvt = {fReader, \"jet_jvt\"};\n",
    "TTreeReaderArray<float> jet_MV2c10 = {fReader, \"jet_MV2c10\"};\n",
    "TTreeReaderValue<Int_t> runNumber = {fReader, \"runNumber\"};\n",
    "TTreeReaderValue<Int_t> eventNumber = {fReader, \"eventNumber\"};\n",
    "TTreeReaderValue<Int_t> channelNumber = {fReader, \"channelNumber\"};"
   ]
  },
  {
   "cell_type": "markdown",
   "metadata": {},
   "source": [
    "----------------------\n",
    "<p>Creamos dos histogramas</p>"
   ]
  },
  {
   "cell_type": "code",
   "execution_count": 5,
   "metadata": {},
   "outputs": [],
   "source": [
    "/*TH1F *mt_signal = new TH1F(\"mt_signal\", \"Dilepton System Transverse Mass; m_{T} [GeV];Events\", 15, 50, 200);\n",
    "TH1F *mt_bkg = new TH1F(\"mt_bkg\",\"Dilepton System Transverse Mass; m_{T} [GeV];Events\", 15, 50, 200);\n",
    "\n",
    "mt_signal->SetMarkerSize(2);         mt_bkg->SetMarkerSize(2);\n",
    "mt_signal->SetFillColor(kBlue-5);   mt_bkg->SetFillColor(kRed-5);\n",
    "mt_signal->SetLineColor(kBlue);      mt_bkg->SetLineColor(kRed);*/"
   ]
  },
  {
   "cell_type": "markdown",
   "metadata": {},
   "source": [
    "-----------------\n",
    "<p><b>Opción a correr</b></p>\n",
    "\n",
    "<p>0 = Una señal (ggH125) + Background </p>\n",
    "<p>1 = Una señal (VBFH125) +Background</p>\n",
    "<p>2 = Dos señal (ggH125+VBFH125) + Background</p>"
   ]
  },
  {
   "cell_type": "code",
   "execution_count": 6,
   "metadata": {},
   "outputs": [
    {
     "name": "stdout",
     "output_type": "stream",
     "text": [
      "option: 1\n"
     ]
    }
   ],
   "source": [
    "int option = 1;\n",
    "cout<<\"option: \"<<option<<endl;"
   ]
  },
  {
   "cell_type": "code",
   "execution_count": 7,
   "metadata": {},
   "outputs": [],
   "source": [
    "vector<string> sample;\n",
    "array_samples(sample,option);"
   ]
  },
  {
   "cell_type": "markdown",
   "metadata": {},
   "source": [
    "---------------\n",
    "<h4>Estudio de cortes: $pt_{1}: 15-80$  y  $pt_{2}: 10-(pt_{1}-5)$</h4>"
   ]
  },
  {
   "cell_type": "code",
   "execution_count": 8,
   "metadata": {},
   "outputs": [],
   "source": [
    "vector<float> pt1, pt2;\n",
    "pt2 = {10000, 15000, 20000, 25000, 30000, 35000/*, 40000, 45000, 50000, 55000*/};\n",
    "pt1 = {15000, 20000, 22000, 25000, 30000, 35000, 40000/*, 45000, 50000, 55000, 60000*/};"
   ]
  },
  {
   "cell_type": "markdown",
   "metadata": {},
   "source": [
    "---------------------\n",
    "<h3>Analysis</h3>"
   ]
  },
  {
   "cell_type": "code",
   "execution_count": 9,
   "metadata": {
    "scrolled": false
   },
   "outputs": [
    {
     "name": "stdout",
     "output_type": "stream",
     "text": [
      "pt1 = 15000; pt2 = 10000\n",
      "Muestra a Analizar: VBFH125_WW2lep # Events: 425131\n",
      "Muestra a Analizar: llll # Events: 4266124\n",
      "pt1 = 20000; pt2 = 10000\n",
      "Muestra a Analizar: VBFH125_WW2lep # Events: 425131\n",
      "Muestra a Analizar: llll # Events: 4266124\n",
      "pt1 = 22000; pt2 = 10000\n",
      "Muestra a Analizar: VBFH125_WW2lep # Events: 425131\n",
      "Muestra a Analizar: llll # Events: 4266124\n",
      "pt1 = 25000; pt2 = 10000\n",
      "Muestra a Analizar: VBFH125_WW2lep # Events: 425131\n",
      "Muestra a Analizar: llll # Events: 4266124\n",
      "pt1 = 30000; pt2 = 10000\n",
      "Muestra a Analizar: VBFH125_WW2lep # Events: 425131\n",
      "Muestra a Analizar: llll # Events: 4266124\n",
      "pt1 = 35000; pt2 = 10000\n",
      "Muestra a Analizar: VBFH125_WW2lep # Events: 425131\n",
      "Muestra a Analizar: llll # Events: 4266124\n",
      "pt1 = 40000; pt2 = 10000\n",
      "Muestra a Analizar: VBFH125_WW2lep # Events: 425131\n",
      "Muestra a Analizar: llll # Events: 4266124\n",
      "pt1 = 20000; pt2 = 15000\n",
      "Muestra a Analizar: VBFH125_WW2lep # Events: 425131\n",
      "Muestra a Analizar: llll # Events: 4266124\n",
      "pt1 = 22000; pt2 = 15000\n",
      "Muestra a Analizar: VBFH125_WW2lep # Events: 425131\n",
      "Muestra a Analizar: llll # Events: 4266124\n",
      "pt1 = 25000; pt2 = 15000\n",
      "Muestra a Analizar: VBFH125_WW2lep # Events: 425131\n",
      "Muestra a Analizar: llll # Events: 4266124\n",
      "pt1 = 30000; pt2 = 15000\n",
      "Muestra a Analizar: VBFH125_WW2lep # Events: 425131\n",
      "Muestra a Analizar: llll # Events: 4266124\n",
      "pt1 = 35000; pt2 = 15000\n",
      "Muestra a Analizar: VBFH125_WW2lep # Events: 425131\n",
      "Muestra a Analizar: llll # Events: 4266124\n",
      "pt1 = 40000; pt2 = 15000\n",
      "Muestra a Analizar: VBFH125_WW2lep # Events: 425131\n",
      "Muestra a Analizar: llll # Events: 4266124\n",
      "pt1 = 22000; pt2 = 20000\n",
      "Muestra a Analizar: VBFH125_WW2lep # Events: 425131\n",
      "Muestra a Analizar: llll # Events: 4266124\n",
      "pt1 = 25000; pt2 = 20000\n",
      "Muestra a Analizar: VBFH125_WW2lep # Events: 425131\n",
      "Muestra a Analizar: llll # Events: 4266124\n",
      "pt1 = 30000; pt2 = 20000\n",
      "Muestra a Analizar: VBFH125_WW2lep # Events: 425131\n",
      "Muestra a Analizar: llll # Events: 4266124\n",
      "pt1 = 35000; pt2 = 20000\n",
      "Muestra a Analizar: VBFH125_WW2lep # Events: 425131\n",
      "Muestra a Analizar: llll # Events: 4266124\n",
      "pt1 = 40000; pt2 = 20000\n",
      "Muestra a Analizar: VBFH125_WW2lep # Events: 425131\n",
      "Muestra a Analizar: llll # Events: 4266124\n",
      "pt1 = 30000; pt2 = 25000\n",
      "Muestra a Analizar: VBFH125_WW2lep # Events: 425131\n",
      "Muestra a Analizar: llll # Events: 4266124\n",
      "pt1 = 35000; pt2 = 25000\n",
      "Muestra a Analizar: VBFH125_WW2lep # Events: 425131\n",
      "Muestra a Analizar: llll # Events: 4266124\n",
      "pt1 = 40000; pt2 = 25000\n",
      "Muestra a Analizar: VBFH125_WW2lep # Events: 425131\n",
      "Muestra a Analizar: llll # Events: 4266124\n",
      "pt1 = 35000; pt2 = 30000\n",
      "Muestra a Analizar: VBFH125_WW2lep # Events: 425131\n",
      "Muestra a Analizar: llll # Events: 4266124\n",
      "pt1 = 40000; pt2 = 30000\n",
      "Muestra a Analizar: VBFH125_WW2lep # Events: 425131\n",
      "Muestra a Analizar: llll # Events: 4266124\n",
      "pt1 = 40000; pt2 = 35000\n",
      "Muestra a Analizar: VBFH125_WW2lep # Events: 425131\n",
      "Muestra a Analizar: llll # Events: 4266124\n"
     ]
    }
   ],
   "source": [
    "vector<vector<float>> registro;\n",
    "\n",
    "for (unsigned j=0; j<pt2.size(); j++){\n",
    "    \n",
    "    for (unsigned k=0; k<pt1.size(); k++){\n",
    "        \n",
    "        if (pt1[k] > pt2[j]){\n",
    "            \n",
    "            cout <<\"pt1 = \" << pt1[k] <<\"; pt2 = \" << pt2[j] << endl;\n",
    "        \n",
    "            float s = 0; //Signal\n",
    "            float b = 0; //Background\n",
    "        \n",
    "            for (unsigned i=0; i<sample.size(); i++){\n",
    "            \n",
    "                fchain = main_HWWAnalysis(sample[i]);\n",
    "                fReader.SetTree(fchain);\n",
    "                Long64_t nentries = fReader.GetEntries(1);\n",
    "                cout<< \"Muestra a Analizar: \"<< sample[i] << \" # Events: \" <<nentries << endl;\n",
    "            \n",
    "                while (fReader.Next()){\n",
    "                \n",
    "                    //Preselection cut for electron/muon trigger\n",
    "                    if (*trigE || *trigM){\n",
    "                    \n",
    "                        // Preselection of good Leptons\n",
    "                        int goodlep_index[2];\n",
    "                        int goodlep_n = 0;\n",
    "                        int lep_index = 0;\n",
    "                    \n",
    "                        for (unsigned r=0; r<*lep_n; r++){\n",
    "                        \n",
    "                            TLorentzVector leptemp;\n",
    "                            leptemp.SetPtEtaPhiE(lep_pt[r]/1000., lep_eta[r], lep_phi[r], lep_E[r]/1000.);\n",
    "                        \n",
    "                            // Lepton is Tight----boolean indicating whether lepton satisfies tight ID reconstruction criteria\n",
    "                            if (lep_isTightID->at(r)){\n",
    "                    \n",
    "                                // standard lepton isolation requirement => strict isolation\n",
    "                                if ((lep_pt[r]>pt2[j]) && (lep_ptcone30[r]/lep_pt[r]<0.1) && (lep_etcone20[r]/lep_pt[r]<0.1)){\n",
    "                       \n",
    "                                    // electron selection\n",
    "                                    if ((lep_type[r]==11) && (TMath::Abs(lep_eta[r])<2.47) && ((TMath::Abs(lep_eta[r])<1.37) || (TMath::Abs(lep_eta[r])>1.52))){\n",
    "                                        if ((TMath::Abs(lep_trackd0pvunbiased[r])/lep_tracksigd0pvunbiased[r]<5) && (TMath::Abs(lep_z0[r]*TMath::Sin(leptemp.Theta()))<0.5)){\n",
    "                                            goodlep_n = goodlep_n + 1;\n",
    "                                            goodlep_index[lep_index] = r;\n",
    "                                            lep_index++;\n",
    "                                        }\n",
    "                                    }\n",
    "                                    // muon selection\n",
    "                                    if ((lep_type[r]==13) && (TMath::Abs(lep_eta[r])<2.5)){\n",
    "                                        if ((TMath::Abs(lep_trackd0pvunbiased[r])/lep_tracksigd0pvunbiased[r]<3) && (TMath::Abs(lep_z0[r]*TMath::Sin(leptemp.Theta()))<0.5)){\n",
    "                                            goodlep_n = goodlep_n + 1;\n",
    "                                            goodlep_index[lep_index] = r;\n",
    "                                            lep_index++;\n",
    "                                        }\n",
    "                                    }\n",
    "                                }\n",
    "                            }//End_Tight\n",
    "                        }\n",
    "                    \n",
    "                        //Exactly two good leptons, leading lepton with pT > 22 GeV and the subleading lepton with pT > 15 GeV\n",
    "                        if (goodlep_n==2){\n",
    "                        \n",
    "                            int goodlep1_index = goodlep_index[0];\n",
    "                            int goodlep2_index = goodlep_index[1];\n",
    "                        \n",
    "                            if (lep_pt[goodlep1_index]>pt1[k]){\n",
    "                            \n",
    "                                //two different-flavour opposite-sign leptons\n",
    "                                if (lep_type[goodlep1_index] != lep_type[goodlep2_index]){\n",
    "                                    if (lep_charge[goodlep1_index]*lep_charge[goodlep2_index]<0){\n",
    "                                    \n",
    "                                        //TLorentzVector Definitions\n",
    "                                        TLorentzVector Lepton_1  = TLorentzVector();\n",
    "                                        TLorentzVector Lepton_2  = TLorentzVector();\n",
    "                                        TLorentzVector      MeT  = TLorentzVector();\n",
    "                                    \n",
    "                                        Lepton_1.SetPtEtaPhiE(lep_pt[goodlep1_index]/1000., lep_eta[goodlep1_index], lep_phi[goodlep1_index],lep_E[goodlep1_index]/1000.);\n",
    "                                        Lepton_2.SetPtEtaPhiE(lep_pt[goodlep2_index]/1000., lep_eta[goodlep2_index], lep_phi[goodlep2_index],lep_E[goodlep2_index]/1000.);\n",
    "                                        MeT.SetPtEtaPhiE(*met_et/1000., 0, *met_phi , *met_et/1000.);\n",
    "                                    \n",
    "                                        TLorentzVector Lepton_12 = TLorentzVector();\n",
    "                                        Lepton_12 = Lepton_1 + Lepton_2;\n",
    "                            \n",
    "                                        float mLL = Lepton_12.Mag(); //The invariant mass of the two leptons\n",
    "\n",
    "                                        float ptLL = Lepton_12.Pt(); //Transverse momentum of the dilepton system\n",
    "                            \n",
    "                                        Float_t MET = *met_et/1000.; // Missing transverse momentum\n",
    "                            \n",
    "                                        //Azimuthal angle between the two leptons\n",
    "                                        float dPhi_LL = TMath::Abs(lep_phi[goodlep1_index]-lep_phi[goodlep2_index]);\n",
    "                                        dPhi_LL = dPhi_LL < TMath::Pi() ? dPhi_LL : 2*TMath::Pi() - dPhi_LL;\n",
    "                            \n",
    "                                        //Azimuthal angle between E_T^miss and the dilepton system\n",
    "                                        float dPhiLLmet = TMath::Abs(Lepton_12.Phi() - MeT.Phi());\n",
    "                                        dPhiLLmet    = dPhiLLmet < TMath::Pi() ? dPhiLLmet : 2*TMath::Pi() - dPhiLLmet;\n",
    "                            \n",
    "                                        //dilepton transverse mass\n",
    "                                        float mt = sqrt(2*Lepton_12.Pt()*MeT.Et()*(1-cos(Lepton_12.DeltaPhi(MeT))));\n",
    "                            \n",
    "                                        // Preselection of good jets\n",
    "                                        int goodjet_n = 0;\n",
    "                                        int goodbjet_n = 0;\n",
    "                            \n",
    "                                        int goodjet_index[*jet_n];\n",
    "                                        int jet_index = 0;\n",
    "                            \n",
    "                                        int goodbjet_index[*jet_n];\n",
    "                                        int bjet_index = 0;\n",
    "                                    \n",
    "                                        for (unsigned int r=0; r<*jet_n; r++){\n",
    "                                        \n",
    "                                            if ((jet_pt[r]>20000.) && (TMath::Abs(jet_eta[r])<2.5)){\n",
    "                                            \n",
    "                                                //JVT cleaning\n",
    "                                                bool jvt_pass = true;\n",
    "                                    \n",
    "                                                if ((jet_pt[r]<60000.) && (TMath::Abs(jet_eta[r])<2.4) && (jet_jvt[r]<0.59)) {jvt_pass=false;}\n",
    "                                    \n",
    "                                                if (jvt_pass){\n",
    "                                        \n",
    "                                                    // cut on 85% WP\n",
    "                                                    if (jet_MV2c10[r] > 0.1758475){\n",
    "                                                        goodbjet_n++;\n",
    "                                                        goodbjet_index[bjet_index] = r;\n",
    "                                                        bjet_index++;\n",
    "                                                    }\n",
    "                                        \n",
    "                                                    if (jet_pt[r]>30000.){\n",
    "                                                        goodjet_n++;\n",
    "                                                        goodjet_index[jet_index] = r;\n",
    "                                                        jet_index++;\n",
    "                                                    }\n",
    "                                                }\n",
    "                                            }\n",
    "                                        }\n",
    "                                    \n",
    "                                        //  remove low mass meson resonances and DY events; ggF regions, at least 1 jet\n",
    "                                        if ( (mLL > 10) && (goodjet_n <= 1) && (MET > 20) ){\n",
    "                                \n",
    "                                            if (mLL < 55){\n",
    "                                    \n",
    "                                                if (ptLL > 30){\n",
    "                                        \n",
    "                                                    if (dPhi_LL < 1.8){\n",
    "                                            \n",
    "                                                        if (dPhiLLmet > TMath::Pi()/2){\n",
    "                                                \n",
    "                                                            if (goodbjet_n ==0){\n",
    "                                                    \n",
    "                                                                //Filter\n",
    "                                                                if (mt > 120 && mt < 130){\n",
    "                                                        \n",
    "                                                                    TString foption = sample[i];\n",
    "                                                                    if (foption.Contains(\"ggH125\") || foption.Contains(\"VBFH125\")){\n",
    "                                                                        s++;\n",
    "                                                                        //mt_signal->Fill(mt);\n",
    "                                                                    } else{\n",
    "                                                                        b++;\n",
    "                                                                        //mt_bkg->Fill(mt);\n",
    "                                                                    }\n",
    "                                                                }\n",
    "                                                            }\n",
    "                                                        }\n",
    "                                                    }\n",
    "                                                }\n",
    "                                            }\n",
    "                                        }\n",
    "                                    }\n",
    "                                }\n",
    "                            }     \n",
    "                        }\n",
    "                    }\n",
    "                }\n",
    "            \n",
    "                fchain->Reset();\n",
    "            }\n",
    "        \n",
    "            float z = sqrt(2*((s+b)*log(1+(s/b))-s));\n",
    "            vector<float> fila; fila = {pt1[k], pt2[j], s, b, z};\n",
    "            registro.push_back(fila);\n",
    "        }\n",
    "    }\n",
    "}"
   ]
  },
  {
   "cell_type": "code",
   "execution_count": 10,
   "metadata": {},
   "outputs": [
    {
     "name": "stdout",
     "output_type": "stream",
     "text": [
      "15000 10000 3656 480 102.486 \n",
      "20000 10000 3656 480 102.486 \n",
      "22000 10000 3656 480 102.486 \n",
      "25000 10000 3656 480 102.486 \n",
      "30000 10000 3479 469 99.3143 \n",
      "35000 10000 3185 438 94.5496 \n",
      "40000 10000 2745 389 87.1097 \n",
      "20000 15000 3225 418 96.5649 \n",
      "22000 15000 3225 418 96.5649 \n",
      "25000 15000 3225 418 96.5649 \n",
      "30000 15000 3073 411 93.5254 \n",
      "35000 15000 2817 380 89.3528 \n",
      "40000 15000 2415 334 82.2129 \n",
      "22000 20000 2608 364 85.2375 \n",
      "25000 20000 2608 364 85.2375 \n",
      "30000 20000 2504 359 82.9513 \n",
      "35000 20000 2309 334 79.4748 \n",
      "40000 20000 1983 287 73.6408 \n",
      "30000 25000 1906 287 71.4641 \n",
      "35000 25000 1773 268 68.8572 \n",
      "40000 25000 1545 236 64.1027 \n",
      "35000 30000 1266 186 58.6138 \n",
      "40000 30000 1137 164 55.8104 \n",
      "40000 35000 783 124 45.2063 \n"
     ]
    }
   ],
   "source": [
    "for (unsigned i=0; i < registro.size(); i++){\n",
    "    for (unsigned j=0; j<registro[i].size(); j++){\n",
    "        cout <<registro[i][j] <<\" \";\n",
    "    }\n",
    "    cout << endl;\n",
    "}"
   ]
  },
  {
   "cell_type": "code",
   "execution_count": null,
   "metadata": {},
   "outputs": [],
   "source": []
  }
 ],
 "metadata": {
  "kernelspec": {
   "display_name": "ROOT C++",
   "language": "c++",
   "name": "root"
  },
  "language_info": {
   "codemirror_mode": "text/x-c++src",
   "file_extension": ".C",
   "mimetype": " text/x-c++src",
   "name": "c++"
  }
 },
 "nbformat": 4,
 "nbformat_minor": 2
}
